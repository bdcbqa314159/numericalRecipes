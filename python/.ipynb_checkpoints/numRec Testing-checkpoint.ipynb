{
 "cells": [
  {
   "cell_type": "code",
   "execution_count": 1,
   "id": "faa3477f",
   "metadata": {},
   "outputs": [],
   "source": [
    "import numpy as np\n",
    "import numRec"
   ]
  },
  {
   "cell_type": "code",
   "execution_count": 2,
   "id": "068b63df",
   "metadata": {},
   "outputs": [],
   "source": [
    "class nrVec2np:\n",
    "    \n",
    "    def __init__(self, nrVector):\n",
    "        self.nrV = nrVector;\n",
    "        self.np = np.array([self.nrV[i] for i in range(self.nrV.size())])\n",
    "        \n",
    "class nrMat2np:\n",
    "    \n",
    "    def __init__(self, nrMatrix):\n",
    "        self.nrM = nrMatrix;\n",
    "        self.np = np.array([[self.nrM[i,j] for j in range(self.nrM.cols())] for i in range(self.nrM.rows())])"
   ]
  },
  {
   "cell_type": "code",
   "execution_count": 3,
   "id": "aea8efd4",
   "metadata": {},
   "outputs": [
    {
     "data": {
      "text/plain": [
       "['Bandec',\n",
       " 'Cholesky',\n",
       " 'LUdcmp',\n",
       " 'QRdcmp',\n",
       " 'SVD',\n",
       " '__doc__',\n",
       " '__file__',\n",
       " '__loader__',\n",
       " '__name__',\n",
       " '__package__',\n",
       " '__spec__',\n",
       " 'banmul',\n",
       " 'gaussJ',\n",
       " 'matFlt32',\n",
       " 'matFlt64',\n",
       " 'toeplz',\n",
       " 'tridag',\n",
       " 'vander',\n",
       " 'vecFlt32',\n",
       " 'vecFlt64']"
      ]
     },
     "execution_count": 3,
     "metadata": {},
     "output_type": "execute_result"
    }
   ],
   "source": [
    "dir(numRec)"
   ]
  },
  {
   "cell_type": "code",
   "execution_count": 4,
   "id": "b1972de5",
   "metadata": {},
   "outputs": [],
   "source": [
    "a = np.array([[2,1,2],[1,2,1],[3,1,-1]]).astype(np.float64)\n",
    "A = numRec.matFlt64(a)\n",
    "A_ = nrMat2np(A)"
   ]
  },
  {
   "cell_type": "code",
   "execution_count": 5,
   "id": "614a5167",
   "metadata": {},
   "outputs": [
    {
     "data": {
      "text/plain": [
       "array([[ 0.25      , -0.25      ,  0.25      ],\n",
       "       [-0.33333333,  0.66666667,  0.        ],\n",
       "       [ 0.41666667, -0.08333333, -0.25      ]])"
      ]
     },
     "execution_count": 5,
     "metadata": {},
     "output_type": "execute_result"
    }
   ],
   "source": [
    "B = np.linalg.inv(A_.np)\n",
    "B"
   ]
  },
  {
   "cell_type": "code",
   "execution_count": 6,
   "id": "9403578a",
   "metadata": {},
   "outputs": [
    {
     "data": {
      "text/plain": [
       "array([[ 0.25      , -0.25      ,  0.25      ],\n",
       "       [-0.33333333,  0.66666667,  0.        ],\n",
       "       [ 0.41666667, -0.08333333, -0.25      ]])"
      ]
     },
     "execution_count": 6,
     "metadata": {},
     "output_type": "execute_result"
    }
   ],
   "source": [
    "numRec.gaussJ(A)\n",
    "A1_ = nrMat2np(A)\n",
    "B1 = A1_.np\n",
    "B1"
   ]
  },
  {
   "cell_type": "code",
   "execution_count": 7,
   "id": "de79e8f2",
   "metadata": {},
   "outputs": [
    {
     "data": {
      "text/plain": [
       "array([[ 1.00000000e+00, -2.77555756e-17,  0.00000000e+00],\n",
       "       [ 5.55111512e-17,  1.00000000e+00,  0.00000000e+00],\n",
       "       [ 0.00000000e+00, -4.16333634e-17,  1.00000000e+00]])"
      ]
     },
     "execution_count": 7,
     "metadata": {},
     "output_type": "execute_result"
    }
   ],
   "source": [
    "np.matmul(A_.np, B1)"
   ]
  },
  {
   "cell_type": "code",
   "execution_count": 8,
   "id": "e5c97b9b",
   "metadata": {},
   "outputs": [],
   "source": [
    "a = np.array([[2,1,2],[1,2,1],[3,1,-1]]).astype(np.float64)\n",
    "A = numRec.matFlt64(a)\n",
    "interface = numRec.LUdcmp(A)\n",
    "\n",
    "a1 = np.array([[2,1,0],[0,0,1],[1,0,-1]]).astype(np.float64)\n",
    "A1 = numRec.matFlt64(a1)"
   ]
  },
  {
   "cell_type": "code",
   "execution_count": 9,
   "id": "ebadff47",
   "metadata": {},
   "outputs": [],
   "source": [
    "interface.inverse(A1)"
   ]
  },
  {
   "cell_type": "code",
   "execution_count": 10,
   "id": "38c9b901",
   "metadata": {},
   "outputs": [],
   "source": [
    "u = nrMat2np(A1)"
   ]
  },
  {
   "cell_type": "code",
   "execution_count": 11,
   "id": "9557889f",
   "metadata": {},
   "outputs": [
    {
     "data": {
      "text/plain": [
       "array([[ 0.25      , -0.25      ,  0.25      ],\n",
       "       [-0.33333333,  0.66666667,  0.        ],\n",
       "       [ 0.41666667, -0.08333333, -0.25      ]])"
      ]
     },
     "execution_count": 11,
     "metadata": {},
     "output_type": "execute_result"
    }
   ],
   "source": [
    "u.np"
   ]
  },
  {
   "cell_type": "markdown",
   "id": "d1a5dc92",
   "metadata": {},
   "source": [
    "# Testing banded matrices"
   ]
  },
  {
   "cell_type": "code",
   "execution_count": 12,
   "id": "a48ceae8",
   "metadata": {},
   "outputs": [],
   "source": [
    "t = np.array([[0,-2,1],[1,-2,1],[1,-2,1],[1,-2,0]]).astype(np.float64)\n",
    "b = np.array([0.04,0.04,0.04,0.04]).astype(np.float64)\n",
    "x = np.array([0.04,0.04,0.04,0.04]).astype(np.float64)\n",
    "b_ = numRec.vecFlt64(b)\n",
    "x_ = numRec.vecFlt64(b_)\n",
    "T = numRec.matFlt64(t)"
   ]
  },
  {
   "cell_type": "code",
   "execution_count": 13,
   "id": "70a206e4",
   "metadata": {},
   "outputs": [],
   "source": [
    "S = numRec.Bandec(T,1,1)"
   ]
  },
  {
   "cell_type": "code",
   "execution_count": 14,
   "id": "8451a143",
   "metadata": {},
   "outputs": [],
   "source": [
    "S.solve(b_,x_)"
   ]
  },
  {
   "cell_type": "code",
   "execution_count": 15,
   "id": "6d4fd2a2",
   "metadata": {},
   "outputs": [
    {
     "data": {
      "text/plain": [
       "array([-0.08, -0.12, -0.12, -0.08])"
      ]
     },
     "execution_count": 15,
     "metadata": {},
     "output_type": "execute_result"
    }
   ],
   "source": [
    "ans = nrVec2np(x_)\n",
    "ans.np"
   ]
  },
  {
   "cell_type": "markdown",
   "id": "6ae3e257",
   "metadata": {},
   "source": [
    "# Testing SVD solve"
   ]
  },
  {
   "cell_type": "code",
   "execution_count": 16,
   "id": "b984fbee",
   "metadata": {},
   "outputs": [],
   "source": [
    "svdA = numRec.SVD(A)"
   ]
  },
  {
   "cell_type": "code",
   "execution_count": 17,
   "id": "cc1e48f3",
   "metadata": {},
   "outputs": [],
   "source": [
    "b = np.array([10,8,2]).astype(np.float64)\n",
    "b_ = numRec.vecFlt64(b)"
   ]
  },
  {
   "cell_type": "code",
   "execution_count": 18,
   "id": "2b1856fe",
   "metadata": {},
   "outputs": [],
   "source": [
    "x = b_\n",
    "svdA.solve(b_,x,-1.)"
   ]
  },
  {
   "cell_type": "code",
   "execution_count": 19,
   "id": "f8220a21",
   "metadata": {},
   "outputs": [
    {
     "data": {
      "text/plain": [
       "array([1., 2., 3.])"
      ]
     },
     "execution_count": 19,
     "metadata": {},
     "output_type": "execute_result"
    }
   ],
   "source": [
    "nrVec2np(x).np"
   ]
  },
  {
   "cell_type": "markdown",
   "id": "91b4a900",
   "metadata": {},
   "source": [
    "# Toeplitz & Vandermonde"
   ]
  },
  {
   "cell_type": "code",
   "execution_count": 20,
   "id": "642ed09c",
   "metadata": {},
   "outputs": [
    {
     "data": {
      "text/plain": [
       "array([-0.00281798,  0.34866146,  0.60445754, -1.20635327, -0.00268989,\n",
       "       -0.11092609])"
      ]
     },
     "execution_count": 20,
     "metadata": {},
     "output_type": "execute_result"
    }
   ],
   "source": [
    "a = np.array([[1,2,0,-1,5,8],\n",
    "             [2,1,2,0,-1,5],\n",
    "             [0,2,1,2,0,-1],\n",
    "             [-1,0,2,1,2,0],\n",
    "             [5,-1,0,2,1,2],\n",
    "             [8,5,-1,0,2,1]])\n",
    "             \n",
    "            \n",
    "b = np.array([1,1,-1,0,-3,1])\n",
    "x = np.linalg.solve(a, b)\n",
    "x"
   ]
  },
  {
   "cell_type": "code",
   "execution_count": 21,
   "id": "092e0690",
   "metadata": {},
   "outputs": [
    {
     "data": {
      "text/plain": [
       "array([-0.11092609, -0.00268989, -1.20635327,  0.60445754,  0.34866146,\n",
       "       -0.00281798])"
      ]
     },
     "execution_count": 21,
     "metadata": {},
     "output_type": "execute_result"
    }
   ],
   "source": [
    "r = np.array([8,5,-1,0,2,1,2,0,-1,5,8]).astype(np.float64)\n",
    "b = np.array([1,-3,0,-1,1,1]).astype(np.float64)\n",
    "\n",
    "r_ = numRec.vecFlt64(r)\n",
    "b_ = numRec.vecFlt64(b)\n",
    "x = b_\n",
    "\n",
    "numRec.toeplz(r_,x,b_)\n",
    "nrVec2np(x).np"
   ]
  },
  {
   "cell_type": "code",
   "execution_count": 22,
   "id": "29e801f9",
   "metadata": {},
   "outputs": [
    {
     "data": {
      "text/plain": [
       "array([2., 6., 8.])"
      ]
     },
     "execution_count": 22,
     "metadata": {},
     "output_type": "execute_result"
    }
   ],
   "source": [
    "r = np.array([1,2,3]).astype(np.float64)\n",
    "b = np.array([16,38,98]).astype(np.float64)\n",
    "\n",
    "r_ = numRec.vecFlt64(r)\n",
    "b_ = numRec.vecFlt64(b)\n",
    "x = numRec.vecFlt64(3)\n",
    "\n",
    "numRec.vander(r_,x,b_)\n",
    "nrVec2np(x).np"
   ]
  },
  {
   "cell_type": "markdown",
   "id": "fa309241",
   "metadata": {},
   "source": [
    "# Cholesky"
   ]
  },
  {
   "cell_type": "code",
   "execution_count": 23,
   "id": "f034a85d",
   "metadata": {},
   "outputs": [
    {
     "data": {
      "text/plain": [
       "array([[ 5.,  0.,  0.],\n",
       "       [ 3.,  3.,  0.],\n",
       "       [-1.,  1.,  3.]])"
      ]
     },
     "execution_count": 23,
     "metadata": {},
     "output_type": "execute_result"
    }
   ],
   "source": [
    "a = np.array([[25,15,-5],[15,18,0],[-5,0,11]]).astype(np.float64)\n",
    "A = numRec.matFlt64(a)\n",
    "\n",
    "chol = numRec.Cholesky(A)\n",
    "\n",
    "nrMat2np(chol.el).np"
   ]
  },
  {
   "cell_type": "markdown",
   "id": "dfc9d540",
   "metadata": {},
   "source": [
    "# QR decomposition"
   ]
  },
  {
   "cell_type": "code",
   "execution_count": 24,
   "id": "e061bf3e",
   "metadata": {},
   "outputs": [],
   "source": [
    "a = np.array([[1,0,0],[1,1,0],[1,1,1]])\n",
    "q,r = np.linalg.qr(a)"
   ]
  },
  {
   "cell_type": "code",
   "execution_count": 25,
   "id": "5593b895",
   "metadata": {},
   "outputs": [
    {
     "data": {
      "text/plain": [
       "array([[-5.77350269e-01,  8.16496581e-01, -8.75605293e-17],\n",
       "       [-5.77350269e-01, -4.08248290e-01, -7.07106781e-01],\n",
       "       [-5.77350269e-01, -4.08248290e-01,  7.07106781e-01]])"
      ]
     },
     "execution_count": 25,
     "metadata": {},
     "output_type": "execute_result"
    }
   ],
   "source": [
    "q"
   ]
  },
  {
   "cell_type": "code",
   "execution_count": 26,
   "id": "e745a320",
   "metadata": {},
   "outputs": [
    {
     "data": {
      "text/plain": [
       "array([[-1.73205081, -1.15470054, -0.57735027],\n",
       "       [ 0.        , -0.81649658, -0.40824829],\n",
       "       [ 0.        ,  0.        ,  0.70710678]])"
      ]
     },
     "execution_count": 26,
     "metadata": {},
     "output_type": "execute_result"
    }
   ],
   "source": [
    "r"
   ]
  },
  {
   "cell_type": "code",
   "execution_count": 27,
   "id": "8bacbd16",
   "metadata": {},
   "outputs": [],
   "source": [
    "QR = numRec.QRdcmp(numRec.matFlt64(a.astype(np.float64)))"
   ]
  },
  {
   "cell_type": "code",
   "execution_count": 28,
   "id": "b63bd666",
   "metadata": {},
   "outputs": [
    {
     "data": {
      "text/plain": [
       "array([[-0.57735027, -0.57735027, -0.57735027],\n",
       "       [ 0.81649658, -0.40824829, -0.40824829],\n",
       "       [ 0.        , -0.70710678,  0.70710678]])"
      ]
     },
     "execution_count": 28,
     "metadata": {},
     "output_type": "execute_result"
    }
   ],
   "source": [
    "nrMat2np(QR.qt).np #Q transpose here."
   ]
  },
  {
   "cell_type": "code",
   "execution_count": 29,
   "id": "0685ec34",
   "metadata": {},
   "outputs": [
    {
     "data": {
      "text/plain": [
       "array([[-1.73205081, -1.15470054, -0.57735027],\n",
       "       [ 0.        , -0.81649658, -0.40824829],\n",
       "       [ 0.        ,  0.        ,  0.70710678]])"
      ]
     },
     "execution_count": 29,
     "metadata": {},
     "output_type": "execute_result"
    }
   ],
   "source": [
    "nrMat2np(QR.r).np"
   ]
  },
  {
   "cell_type": "code",
   "execution_count": null,
   "id": "d4115d86",
   "metadata": {},
   "outputs": [],
   "source": []
  }
 ],
 "metadata": {
  "kernelspec": {
   "display_name": "Python 3",
   "language": "python",
   "name": "python3"
  },
  "language_info": {
   "codemirror_mode": {
    "name": "ipython",
    "version": 3
   },
   "file_extension": ".py",
   "mimetype": "text/x-python",
   "name": "python",
   "nbconvert_exporter": "python",
   "pygments_lexer": "ipython3",
   "version": "3.8.8"
  }
 },
 "nbformat": 4,
 "nbformat_minor": 5
}
